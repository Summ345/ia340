{
 "cells": [
  {
   "cell_type": "markdown",
   "id": "c90fd400",
   "metadata": {},
   "source": [
    "#import python labs "
   ]
  },
  {
   "cell_type": "code",
   "execution_count": 4,
   "id": "9451259b",
   "metadata": {},
   "outputs": [
    {
     "name": "stderr",
     "output_type": "stream",
     "text": [
      "/home/ec2-user/anaconda3/envs/python3/lib/python3.6/site-packages/psycopg2/__init__.py:144: UserWarning: The psycopg2 wheel package will be renamed from release 2.8; in order to keep installing from binary please use \"pip install psycopg2-binary\" instead. For details see: <http://initd.org/psycopg/docs/install.html#binary-install-from-pypi>.\n",
      "  \"\"\")\n"
     ]
    }
   ],
   "source": [
    "import pandas\n",
    "import configparser\n",
    "import psycopg2"
   ]
  },
  {
   "cell_type": "markdown",
   "id": "13a81c7c",
   "metadata": {},
   "source": [
    "#connect to database"
   ]
  },
  {
   "cell_type": "code",
   "execution_count": 5,
   "id": "4660ffca",
   "metadata": {},
   "outputs": [],
   "source": [
    "config = configparser.ConfigParser()\n",
    "config.read('config.ini')\n",
    "\n",
    "host=config['myaws']['host']\n",
    "db=config['myaws']['db']\n",
    "user=config['myaws']['user']\n",
    "pwd = config['myaws']['pwd']\n",
    "\n",
    "conn = psycopg2.connect(  host=host,\n",
    "                       user=user,\n",
    "                       password = pwd,\n",
    "                       dbname=db)"
   ]
  },
  {
   "cell_type": "code",
   "execution_count": 6,
   "id": "e69dc9ab",
   "metadata": {},
   "outputs": [],
   "source": [
    "cur=conn.cursor()"
   ]
  },
  {
   "cell_type": "markdown",
   "id": "dc1301e5",
   "metadata": {},
   "source": [
    "# Q1"
   ]
  },
  {
   "cell_type": "code",
   "execution_count": 4,
   "id": "395631a0",
   "metadata": {},
   "outputs": [],
   "source": [
    "sql_stat= \"\"\"\n",
    "    select * from gp10.student\n",
    "    \n",
    "\"\"\""
   ]
  },
  {
   "cell_type": "code",
   "execution_count": 5,
   "id": "277f007c",
   "metadata": {
    "scrolled": true
   },
   "outputs": [
    {
     "data": {
      "text/html": [
       "<div>\n",
       "<style scoped>\n",
       "    .dataframe tbody tr th:only-of-type {\n",
       "        vertical-align: middle;\n",
       "    }\n",
       "\n",
       "    .dataframe tbody tr th {\n",
       "        vertical-align: top;\n",
       "    }\n",
       "\n",
       "    .dataframe thead th {\n",
       "        text-align: right;\n",
       "    }\n",
       "</style>\n",
       "<table border=\"1\" class=\"dataframe\">\n",
       "  <thead>\n",
       "    <tr style=\"text-align: right;\">\n",
       "      <th></th>\n",
       "      <th>s_email</th>\n",
       "      <th>s_name</th>\n",
       "      <th>major</th>\n",
       "    </tr>\n",
       "  </thead>\n",
       "  <tbody>\n",
       "    <tr>\n",
       "      <th>0</th>\n",
       "      <td>s1@jmu.edu</td>\n",
       "      <td>s1</td>\n",
       "      <td>IA</td>\n",
       "    </tr>\n",
       "    <tr>\n",
       "      <th>1</th>\n",
       "      <td>s2@jmu.edu</td>\n",
       "      <td>s2</td>\n",
       "      <td>IA</td>\n",
       "    </tr>\n",
       "    <tr>\n",
       "      <th>2</th>\n",
       "      <td>s3@jmu.edu</td>\n",
       "      <td>s3</td>\n",
       "      <td>IA</td>\n",
       "    </tr>\n",
       "    <tr>\n",
       "      <th>3</th>\n",
       "      <td>s4@jmu.edu</td>\n",
       "      <td>s4</td>\n",
       "      <td>IA</td>\n",
       "    </tr>\n",
       "  </tbody>\n",
       "</table>\n",
       "</div>"
      ],
      "text/plain": [
       "      s_email s_name major\n",
       "0  s1@jmu.edu     s1    IA\n",
       "1  s2@jmu.edu     s2    IA\n",
       "2  s3@jmu.edu     s3    IA\n",
       "3  s4@jmu.edu     s4    IA"
      ]
     },
     "execution_count": 5,
     "metadata": {},
     "output_type": "execute_result"
    }
   ],
   "source": [
    "df = pandas.read_sql_query(sql_stat,conn)\n",
    "df[:]"
   ]
  },
  {
   "cell_type": "markdown",
   "id": "6d44112c",
   "metadata": {},
   "source": [
    "# Q2 \n"
   ]
  },
  {
   "cell_type": "code",
   "execution_count": 25,
   "id": "19ec8119",
   "metadata": {},
   "outputs": [],
   "source": [
    "sql_stat= \"\"\"\n",
    "            select gp10.professor.p_name,\n",
    "               gp10.course.c_name\n",
    "            from gp10.professor\n",
    "            inner join gp10.course\n",
    "            on gp10.professor.p_email = gp10.course.p_email \"\"\""
   ]
  },
  {
   "cell_type": "code",
   "execution_count": 26,
   "id": "12ee3e35",
   "metadata": {},
   "outputs": [
    {
     "data": {
      "text/html": [
       "<div>\n",
       "<style scoped>\n",
       "    .dataframe tbody tr th:only-of-type {\n",
       "        vertical-align: middle;\n",
       "    }\n",
       "\n",
       "    .dataframe tbody tr th {\n",
       "        vertical-align: top;\n",
       "    }\n",
       "\n",
       "    .dataframe thead th {\n",
       "        text-align: right;\n",
       "    }\n",
       "</style>\n",
       "<table border=\"1\" class=\"dataframe\">\n",
       "  <thead>\n",
       "    <tr style=\"text-align: right;\">\n",
       "      <th></th>\n",
       "      <th>p_name</th>\n",
       "      <th>c_name</th>\n",
       "    </tr>\n",
       "  </thead>\n",
       "  <tbody>\n",
       "    <tr>\n",
       "      <th>0</th>\n",
       "      <td>xuebin wei</td>\n",
       "      <td>data mining</td>\n",
       "    </tr>\n",
       "    <tr>\n",
       "      <th>1</th>\n",
       "      <td>Noel Hendrickson</td>\n",
       "      <td>Counter factual reasoning</td>\n",
       "    </tr>\n",
       "    <tr>\n",
       "      <th>2</th>\n",
       "      <td>Kristen Castellano</td>\n",
       "      <td>English 221</td>\n",
       "    </tr>\n",
       "    <tr>\n",
       "      <th>3</th>\n",
       "      <td>Peter longbottom</td>\n",
       "      <td>Intro101</td>\n",
       "    </tr>\n",
       "    <tr>\n",
       "      <th>4</th>\n",
       "      <td>Peter longbottom</td>\n",
       "      <td>issues in IA</td>\n",
       "    </tr>\n",
       "  </tbody>\n",
       "</table>\n",
       "</div>"
      ],
      "text/plain": [
       "               p_name                      c_name\n",
       "0          xuebin wei                 data mining\n",
       "1    Noel Hendrickson  Counter factual reasoning \n",
       "2  Kristen Castellano                 English 221\n",
       "3    Peter longbottom                    Intro101\n",
       "4    Peter longbottom                issues in IA"
      ]
     },
     "execution_count": 26,
     "metadata": {},
     "output_type": "execute_result"
    }
   ],
   "source": [
    "df = pandas.read_sql_query(sql_stat,conn)\n",
    "df[:]"
   ]
  },
  {
   "cell_type": "markdown",
   "id": "82625c53",
   "metadata": {},
   "source": [
    "# Q3"
   ]
  },
  {
   "cell_type": "code",
   "execution_count": 29,
   "id": "4a6c8b0c",
   "metadata": {},
   "outputs": [],
   "source": [
    "sql_stat = \"\"\"\n",
    "            Select count(c_number) as enrolled, \n",
    "            c_number\n",
    "            from gp10.enroll_list\n",
    "            group by c_number \n",
    "        \"\"\""
   ]
  },
  {
   "cell_type": "code",
   "execution_count": 30,
   "id": "532fad1b",
   "metadata": {},
   "outputs": [
    {
     "data": {
      "text/plain": [
       "<AxesSubplot:xlabel='c_number'>"
      ]
     },
     "execution_count": 30,
     "metadata": {},
     "output_type": "execute_result"
    },
    {
     "data": {
      "image/png": "[encoded data removed]",
      "text/plain": [
       "<Figure size 432x288 with 1 Axes>"
      ]
     },
     "metadata": {
      "needs_background": "light"
     },
     "output_type": "display_data"
    }
   ],
   "source": [
    "df = pandas.read_sql_query(sql_stat,conn)\n",
    "df.plot.bar(x='c_number',y='enrolled')"
   ]
  },
  {
   "cell_type": "markdown",
   "id": "c30ff68d",
   "metadata": {},
   "source": [
    "# Q4 "
   ]
  },
  {
   "cell_type": "code",
   "execution_count": 38,
   "id": "0c7775b3",
   "metadata": {},
   "outputs": [],
   "source": [
    "sql_stat = \"\"\"\n",
    "            select gp10.professor.p_name,\n",
    "                count(gp10.course.c_name) as teaching_name\n",
    "            from gp10.professor\n",
    "            inner join gp10.course\n",
    "            on gp10.professor.p_email = gp10.course.p_email\n",
    "            group by professor.p_name\n",
    "            order by teaching_name desc \n",
    "\"\"\""
   ]
  },
  {
   "cell_type": "code",
   "execution_count": 39,
   "id": "40177164",
   "metadata": {},
   "outputs": [
    {
     "data": {
      "text/plain": [
       "<AxesSubplot:xlabel='p_name'>"
      ]
     },
     "execution_count": 39,
     "metadata": {},
     "output_type": "execute_result"
    },
    {
     "data": {
      "image/png": "[encoded data removed]",
      "text/plain": [
       "<Figure size 432x288 with 1 Axes>"
      ]
     },
     "metadata": {
      "needs_background": "light"
     },
     "output_type": "display_data"
    }
   ],
   "source": [
    "df = pandas.read_sql_query(sql_stat,conn)\n",
    "df.plot.bar(x='p_name',y='teaching_name')"
   ]
  },
  {
   "cell_type": "markdown",
   "id": "018684d7",
   "metadata": {},
   "source": [
    "# Q5"
   ]
  },
  {
   "cell_type": "code",
   "execution_count": 45,
   "id": "ce0839bf",
   "metadata": {},
   "outputs": [],
   "source": [
    "sql_stat = \"\"\"\n",
    "            insert into gp10.professor(p_email,p_name,office)\n",
    "            values ('DoodBob@jmu.edu','Doodle Bob','IA45')\n",
    "\"\"\""
   ]
  },
  {
   "cell_type": "code",
   "execution_count": 50,
   "id": "4d49ab1e",
   "metadata": {},
   "outputs": [
    {
     "ename": "IntegrityError",
     "evalue": "duplicate key value violates unique constraint \"professor_pkey\"\nDETAIL:  Key (p_email)=(DoodBob@jmu.edu) already exists.\n",
     "output_type": "error",
     "traceback": [
      "\u001b[0;31m---------------------------------------------------------------------------\u001b[0m",
      "\u001b[0;31mIntegrityError\u001b[0m                            Traceback (most recent call last)",
      "\u001b[0;32m<ipython-input-50-fc999697a2c8>\u001b[0m in \u001b[0;36m<module>\u001b[0;34m\u001b[0m\n\u001b[0;32m----> 1\u001b[0;31m \u001b[0mcur\u001b[0m\u001b[0;34m.\u001b[0m\u001b[0mexecute\u001b[0m\u001b[0;34m(\u001b[0m\u001b[0msql_stat\u001b[0m\u001b[0;34m)\u001b[0m\u001b[0;34m\u001b[0m\u001b[0;34m\u001b[0m\u001b[0m\n\u001b[0m",
      "\u001b[0;31mIntegrityError\u001b[0m: duplicate key value violates unique constraint \"professor_pkey\"\nDETAIL:  Key (p_email)=(DoodBob@jmu.edu) already exists.\n"
     ]
    }
   ],
   "source": [
    "cur.execute(sql_stat)"
   ]
  },
  {
   "cell_type": "code",
   "execution_count": 1,
   "id": "2c5d17b5",
   "metadata": {},
   "outputs": [],
   "source": [
    "sql_stat = \"\"\"\n",
    "            insert into gp10.course(c_number,c_name,room,p_email)\n",
    "            values ('34', 'IA23', 'ISAT67', 'DoodBob@jmu.edu')\n",
    "\"\"\""
   ]
  },
  {
   "cell_type": "code",
   "execution_count": 7,
   "id": "53121544",
   "metadata": {},
   "outputs": [],
   "source": [
    "conn.rollback()"
   ]
  },
  {
   "cell_type": "code",
   "execution_count": 8,
   "id": "dd415339",
   "metadata": {},
   "outputs": [],
   "source": [
    "sql_stat = \"\"\"\n",
    "            insert into gp10.professor(p_email,p_name,office)\n",
    "            values ('DoodBob@jmu.edu','Doodle Bob','IA45')\n",
    "\"\"\""
   ]
  },
  {
   "cell_type": "code",
   "execution_count": 9,
   "id": "0c5c46be",
   "metadata": {},
   "outputs": [],
   "source": [
    "cur.execute(sql_stat)"
   ]
  },
  {
   "cell_type": "code",
   "execution_count": 10,
   "id": "b178bdff",
   "metadata": {},
   "outputs": [],
   "source": [
    "conn.commit()"
   ]
  },
  {
   "cell_type": "code",
   "execution_count": 11,
   "id": "9a1f118c",
   "metadata": {},
   "outputs": [
    {
     "data": {
      "text/html": [
       "<div>\n",
       "<style scoped>\n",
       "    .dataframe tbody tr th:only-of-type {\n",
       "        vertical-align: middle;\n",
       "    }\n",
       "\n",
       "    .dataframe tbody tr th {\n",
       "        vertical-align: top;\n",
       "    }\n",
       "\n",
       "    .dataframe thead th {\n",
       "        text-align: right;\n",
       "    }\n",
       "</style>\n",
       "<table border=\"1\" class=\"dataframe\">\n",
       "  <thead>\n",
       "    <tr style=\"text-align: right;\">\n",
       "      <th></th>\n",
       "      <th>p_email</th>\n",
       "      <th>p_name</th>\n",
       "      <th>office</th>\n",
       "    </tr>\n",
       "  </thead>\n",
       "  <tbody>\n",
       "    <tr>\n",
       "      <th>0</th>\n",
       "      <td>weixx@jmu.edu</td>\n",
       "      <td>xuebin wei</td>\n",
       "      <td>hhs112</td>\n",
       "    </tr>\n",
       "    <tr>\n",
       "      <th>1</th>\n",
       "      <td>Hendrinx@jmu.edu</td>\n",
       "      <td>Noel Hendrickson</td>\n",
       "      <td>Online</td>\n",
       "    </tr>\n",
       "    <tr>\n",
       "      <th>2</th>\n",
       "      <td>Waltontr@jmu.edu</td>\n",
       "      <td>Timothy Walton</td>\n",
       "      <td>ISAT326</td>\n",
       "    </tr>\n",
       "    <tr>\n",
       "      <th>3</th>\n",
       "      <td>castelkm@jmu.edu</td>\n",
       "      <td>Kristen Castellano</td>\n",
       "      <td>Keezell408</td>\n",
       "    </tr>\n",
       "    <tr>\n",
       "      <th>4</th>\n",
       "      <td>summers@dukes.jmu.edu</td>\n",
       "      <td>Peter longbottom</td>\n",
       "      <td>ISAT</td>\n",
       "    </tr>\n",
       "    <tr>\n",
       "      <th>5</th>\n",
       "      <td>DoodBob@jmu.edu</td>\n",
       "      <td>Doodle Bob</td>\n",
       "      <td>IA45</td>\n",
       "    </tr>\n",
       "  </tbody>\n",
       "</table>\n",
       "</div>"
      ],
      "text/plain": [
       "                 p_email              p_name      office\n",
       "0          weixx@jmu.edu          xuebin wei      hhs112\n",
       "1       Hendrinx@jmu.edu    Noel Hendrickson     Online \n",
       "2       Waltontr@jmu.edu     Timothy Walton      ISAT326\n",
       "3       castelkm@jmu.edu  Kristen Castellano  Keezell408\n",
       "4  summers@dukes.jmu.edu    Peter longbottom        ISAT\n",
       "5        DoodBob@jmu.edu          Doodle Bob        IA45"
      ]
     },
     "execution_count": 11,
     "metadata": {},
     "output_type": "execute_result"
    }
   ],
   "source": [
    "df=pandas.read_sql_query('select * from gp10.professor',conn)\n",
    "df[:]"
   ]
  },
  {
   "cell_type": "code",
   "execution_count": 31,
   "id": "7d24d636",
   "metadata": {},
   "outputs": [],
   "source": [
    "sql_stat = \"\"\"\n",
    "            insert into gp10.course(c_number,c_name,room, p_email)\n",
    "            values ('243', 'Class123', '678' , 'Hendrinx@jmu.edu')\n",
    "\"\"\""
   ]
  },
  {
   "cell_type": "code",
   "execution_count": 32,
   "id": "2e1021b3",
   "metadata": {},
   "outputs": [],
   "source": [
    "cur.execute(sql_stat)"
   ]
  },
  {
   "cell_type": "code",
   "execution_count": 30,
   "id": "f198e4d3",
   "metadata": {},
   "outputs": [],
   "source": [
    "conn.rollback()"
   ]
  },
  {
   "cell_type": "code",
   "execution_count": 33,
   "id": "a522e1ab",
   "metadata": {},
   "outputs": [],
   "source": [
    "conn.commit()"
   ]
  },
  {
   "cell_type": "code",
   "execution_count": 34,
   "id": "94ac4fa9",
   "metadata": {},
   "outputs": [
    {
     "data": {
      "text/html": [
       "<div>\n",
       "<style scoped>\n",
       "    .dataframe tbody tr th:only-of-type {\n",
       "        vertical-align: middle;\n",
       "    }\n",
       "\n",
       "    .dataframe tbody tr th {\n",
       "        vertical-align: top;\n",
       "    }\n",
       "\n",
       "    .dataframe thead th {\n",
       "        text-align: right;\n",
       "    }\n",
       "</style>\n",
       "<table border=\"1\" class=\"dataframe\">\n",
       "  <thead>\n",
       "    <tr style=\"text-align: right;\">\n",
       "      <th></th>\n",
       "      <th>c_number</th>\n",
       "      <th>c_name</th>\n",
       "      <th>room</th>\n",
       "      <th>p_email</th>\n",
       "    </tr>\n",
       "  </thead>\n",
       "  <tbody>\n",
       "    <tr>\n",
       "      <th>0</th>\n",
       "      <td>IA340</td>\n",
       "      <td>data mining</td>\n",
       "      <td>ISAT 0336</td>\n",
       "      <td>weixx@jmu.edu</td>\n",
       "    </tr>\n",
       "    <tr>\n",
       "      <th>1</th>\n",
       "      <td>IA313</td>\n",
       "      <td>Counter factual reasoning</td>\n",
       "      <td>ENGEO1204</td>\n",
       "      <td>Hendrinx@jmu.edu</td>\n",
       "    </tr>\n",
       "    <tr>\n",
       "      <th>2</th>\n",
       "      <td>ENG221\\n</td>\n",
       "      <td>English 221</td>\n",
       "      <td>ENGEO2402</td>\n",
       "      <td>castelkm@jmu.edu</td>\n",
       "    </tr>\n",
       "    <tr>\n",
       "      <th>3</th>\n",
       "      <td>345</td>\n",
       "      <td>Intro101</td>\n",
       "      <td>ISAT231</td>\n",
       "      <td>summers@dukes.jmu.edu</td>\n",
       "    </tr>\n",
       "    <tr>\n",
       "      <th>4</th>\n",
       "      <td>IA300</td>\n",
       "      <td>issues in IA</td>\n",
       "      <td>ISAT150</td>\n",
       "      <td>summers@dukes.jmu.edu</td>\n",
       "    </tr>\n",
       "    <tr>\n",
       "      <th>5</th>\n",
       "      <td>243</td>\n",
       "      <td>Class123</td>\n",
       "      <td>678</td>\n",
       "      <td>Hendrinx@jmu.edu</td>\n",
       "    </tr>\n",
       "  </tbody>\n",
       "</table>\n",
       "</div>"
      ],
      "text/plain": [
       "   c_number                      c_name       room                p_email\n",
       "0     IA340                 data mining  ISAT 0336          weixx@jmu.edu\n",
       "1     IA313  Counter factual reasoning   ENGEO1204       Hendrinx@jmu.edu\n",
       "2  ENG221\\n                 English 221  ENGEO2402       castelkm@jmu.edu\n",
       "3       345                    Intro101    ISAT231  summers@dukes.jmu.edu\n",
       "4     IA300                issues in IA    ISAT150  summers@dukes.jmu.edu\n",
       "5       243                    Class123        678       Hendrinx@jmu.edu"
      ]
     },
     "execution_count": 34,
     "metadata": {},
     "output_type": "execute_result"
    }
   ],
   "source": [
    "df=pandas.read_sql_query('select * from gp10.course',conn)\n",
    "df[:]"
   ]
  },
  {
   "cell_type": "markdown",
   "id": "e329017e",
   "metadata": {},
   "source": [
    "# Q6 "
   ]
  },
  {
   "cell_type": "code",
   "execution_count": 38,
   "id": "b3afa4c9",
   "metadata": {},
   "outputs": [],
   "source": [
    "sql_stat= \"\"\"\n",
    "            update gp10.course\n",
    "            set p_email = '{}'\n",
    "            where p_email = '{}'\n",
    "\"\"\".format('Hendrinx@jmu.edu', 'Classemail')"
   ]
  },
  {
   "cell_type": "code",
   "execution_count": 39,
   "id": "d52f8657",
   "metadata": {},
   "outputs": [],
   "source": [
    "cur.execute(sql_stat)"
   ]
  },
  {
   "cell_type": "code",
   "execution_count": 37,
   "id": "fb2254bc",
   "metadata": {},
   "outputs": [],
   "source": [
    "conn.rollback()"
   ]
  },
  {
   "cell_type": "code",
   "execution_count": 40,
   "id": "d802254e",
   "metadata": {},
   "outputs": [],
   "source": [
    "\n",
    "conn.commit()"
   ]
  },
  {
   "cell_type": "code",
   "execution_count": 41,
   "id": "fa1c93bc",
   "metadata": {},
   "outputs": [
    {
     "data": {
      "text/html": [
       "<div>\n",
       "<style scoped>\n",
       "    .dataframe tbody tr th:only-of-type {\n",
       "        vertical-align: middle;\n",
       "    }\n",
       "\n",
       "    .dataframe tbody tr th {\n",
       "        vertical-align: top;\n",
       "    }\n",
       "\n",
       "    .dataframe thead th {\n",
       "        text-align: right;\n",
       "    }\n",
       "</style>\n",
       "<table border=\"1\" class=\"dataframe\">\n",
       "  <thead>\n",
       "    <tr style=\"text-align: right;\">\n",
       "      <th></th>\n",
       "      <th>c_number</th>\n",
       "      <th>c_name</th>\n",
       "      <th>room</th>\n",
       "      <th>p_email</th>\n",
       "    </tr>\n",
       "  </thead>\n",
       "  <tbody>\n",
       "    <tr>\n",
       "      <th>0</th>\n",
       "      <td>IA340</td>\n",
       "      <td>data mining</td>\n",
       "      <td>ISAT 0336</td>\n",
       "      <td>weixx@jmu.edu</td>\n",
       "    </tr>\n",
       "    <tr>\n",
       "      <th>1</th>\n",
       "      <td>IA313</td>\n",
       "      <td>Counter factual reasoning</td>\n",
       "      <td>ENGEO1204</td>\n",
       "      <td>Hendrinx@jmu.edu</td>\n",
       "    </tr>\n",
       "    <tr>\n",
       "      <th>2</th>\n",
       "      <td>ENG221\\n</td>\n",
       "      <td>English 221</td>\n",
       "      <td>ENGEO2402</td>\n",
       "      <td>castelkm@jmu.edu</td>\n",
       "    </tr>\n",
       "    <tr>\n",
       "      <th>3</th>\n",
       "      <td>345</td>\n",
       "      <td>Intro101</td>\n",
       "      <td>ISAT231</td>\n",
       "      <td>summers@dukes.jmu.edu</td>\n",
       "    </tr>\n",
       "    <tr>\n",
       "      <th>4</th>\n",
       "      <td>IA300</td>\n",
       "      <td>issues in IA</td>\n",
       "      <td>ISAT150</td>\n",
       "      <td>summers@dukes.jmu.edu</td>\n",
       "    </tr>\n",
       "    <tr>\n",
       "      <th>5</th>\n",
       "      <td>243</td>\n",
       "      <td>Class123</td>\n",
       "      <td>678</td>\n",
       "      <td>Hendrinx@jmu.edu</td>\n",
       "    </tr>\n",
       "  </tbody>\n",
       "</table>\n",
       "</div>"
      ],
      "text/plain": [
       "   c_number                      c_name       room                p_email\n",
       "0     IA340                 data mining  ISAT 0336          weixx@jmu.edu\n",
       "1     IA313  Counter factual reasoning   ENGEO1204       Hendrinx@jmu.edu\n",
       "2  ENG221\\n                 English 221  ENGEO2402       castelkm@jmu.edu\n",
       "3       345                    Intro101    ISAT231  summers@dukes.jmu.edu\n",
       "4     IA300                issues in IA    ISAT150  summers@dukes.jmu.edu\n",
       "5       243                    Class123        678       Hendrinx@jmu.edu"
      ]
     },
     "execution_count": 41,
     "metadata": {},
     "output_type": "execute_result"
    }
   ],
   "source": [
    "df=pandas.read_sql_query('select * from gp10.course',conn)\n",
    "df[:]"
   ]
  },
  {
   "cell_type": "code",
   "execution_count": 42,
   "id": "0b8b31aa",
   "metadata": {},
   "outputs": [],
   "source": [
    "sql_stat= \"\"\"\n",
    "            delete from gp10.professor \n",
    "            where p_email='{}'\n",
    "            \"\"\".format('Classemail')"
   ]
  },
  {
   "cell_type": "code",
   "execution_count": 43,
   "id": "63d942a4",
   "metadata": {},
   "outputs": [],
   "source": [
    "\n",
    "cur.execute(sql_stat)"
   ]
  },
  {
   "cell_type": "code",
   "execution_count": 44,
   "id": "4c9858e2",
   "metadata": {},
   "outputs": [],
   "source": [
    "conn.commit()"
   ]
  },
  {
   "cell_type": "code",
   "execution_count": 45,
   "id": "24fdcf86",
   "metadata": {},
   "outputs": [
    {
     "data": {
      "text/html": [
       "<div>\n",
       "<style scoped>\n",
       "    .dataframe tbody tr th:only-of-type {\n",
       "        vertical-align: middle;\n",
       "    }\n",
       "\n",
       "    .dataframe tbody tr th {\n",
       "        vertical-align: top;\n",
       "    }\n",
       "\n",
       "    .dataframe thead th {\n",
       "        text-align: right;\n",
       "    }\n",
       "</style>\n",
       "<table border=\"1\" class=\"dataframe\">\n",
       "  <thead>\n",
       "    <tr style=\"text-align: right;\">\n",
       "      <th></th>\n",
       "      <th>p_email</th>\n",
       "      <th>p_name</th>\n",
       "      <th>office</th>\n",
       "    </tr>\n",
       "  </thead>\n",
       "  <tbody>\n",
       "    <tr>\n",
       "      <th>0</th>\n",
       "      <td>weixx@jmu.edu</td>\n",
       "      <td>xuebin wei</td>\n",
       "      <td>hhs112</td>\n",
       "    </tr>\n",
       "    <tr>\n",
       "      <th>1</th>\n",
       "      <td>Hendrinx@jmu.edu</td>\n",
       "      <td>Noel Hendrickson</td>\n",
       "      <td>Online</td>\n",
       "    </tr>\n",
       "    <tr>\n",
       "      <th>2</th>\n",
       "      <td>Waltontr@jmu.edu</td>\n",
       "      <td>Timothy Walton</td>\n",
       "      <td>ISAT326</td>\n",
       "    </tr>\n",
       "    <tr>\n",
       "      <th>3</th>\n",
       "      <td>castelkm@jmu.edu</td>\n",
       "      <td>Kristen Castellano</td>\n",
       "      <td>Keezell408</td>\n",
       "    </tr>\n",
       "    <tr>\n",
       "      <th>4</th>\n",
       "      <td>summers@dukes.jmu.edu</td>\n",
       "      <td>Peter longbottom</td>\n",
       "      <td>ISAT</td>\n",
       "    </tr>\n",
       "    <tr>\n",
       "      <th>5</th>\n",
       "      <td>DoodBob@jmu.edu</td>\n",
       "      <td>Doodle Bob</td>\n",
       "      <td>IA45</td>\n",
       "    </tr>\n",
       "  </tbody>\n",
       "</table>\n",
       "</div>"
      ],
      "text/plain": [
       "                 p_email              p_name      office\n",
       "0          weixx@jmu.edu          xuebin wei      hhs112\n",
       "1       Hendrinx@jmu.edu    Noel Hendrickson     Online \n",
       "2       Waltontr@jmu.edu     Timothy Walton      ISAT326\n",
       "3       castelkm@jmu.edu  Kristen Castellano  Keezell408\n",
       "4  summers@dukes.jmu.edu    Peter longbottom        ISAT\n",
       "5        DoodBob@jmu.edu          Doodle Bob        IA45"
      ]
     },
     "execution_count": 45,
     "metadata": {},
     "output_type": "execute_result"
    }
   ],
   "source": [
    "df=pandas.read_sql_query('select * from gp10.professor',conn)\n",
    "df[:]"
   ]
  },
  {
   "cell_type": "code",
   "execution_count": 46,
   "id": "945c06dd",
   "metadata": {},
   "outputs": [],
   "source": [
    "cur.close()"
   ]
  },
  {
   "cell_type": "code",
   "execution_count": 47,
   "id": "d578bb96",
   "metadata": {},
   "outputs": [],
   "source": [
    "conn.close()"
   ]
  },
  {
   "cell_type": "code",
   "execution_count": null,
   "id": "238ca281",
   "metadata": {},
   "outputs": [],
   "source": []
  }
 ],
 "metadata": {
  "kernelspec": {
   "display_name": "conda_python3",
   "language": "python",
   "name": "conda_python3"
  },
  "language_info": {
   "codemirror_mode": {
    "name": "ipython",
    "version": 3
   },
   "file_extension": ".py",
   "mimetype": "text/x-python",
   "name": "python",
   "nbconvert_exporter": "python",
   "pygments_lexer": "ipython3",
   "version": "3.6.13"
  }
 },
 "nbformat": 4,
 "nbformat_minor": 5
}
